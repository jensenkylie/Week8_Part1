{
 "cells": [
  {
   "cell_type": "code",
   "execution_count": 1,
   "metadata": {},
   "outputs": [],
   "source": [
    "%matplotlib inline"
   ]
  },
  {
   "cell_type": "markdown",
   "metadata": {},
   "source": [
    "\n",
    "# Stacked Bar Graph\n",
    "\n",
    "\n",
    "This is an example of creating a stacked bar plot with error bars\n",
    "using `~matplotlib.pyplot.bar`.  Note the parameters *yerr* used for\n",
    "error bars, and *bottom* to stack the women's bars on top of the men's\n",
    "bars.\n"
   ]
  },
  {
   "cell_type": "code",
   "execution_count": 4,
   "metadata": {},
   "outputs": [
    {
     "data": {
      "image/png": "[encoded data removed]",
      "text/plain": [
       "<Figure size 432x288 with 1 Axes>"
      ]
     },
     "metadata": {
      "needs_background": "light"
     },
     "output_type": "display_data"
    }
   ],
   "source": [
    "import numpy as np\n",
    "import matplotlib.pyplot as plt\n",
    "\n",
    "\n",
    "N = 5\n",
    "maleMeans = (20, 35, 30, 35, 27)\n",
    "femaleMeans = (25, 32, 34, 20, 25)\n",
    "maleStd = (2, 3, 4, 1, 2)\n",
    "femaleStd = (3, 5, 2, 3, 3)\n",
    "ind = np.arange(N)    # the x locations for the groups\n",
    "width = 0.35       # the width of the bars: can also be len(x) sequence\n",
    "\n",
    "p1 = plt.bar(ind, maleMeans, width, yerr=maleStd)\n",
    "p2 = plt.bar(ind, femaleMeans, width,\n",
    "             bottom=maleMeans, yerr=femaleStd)\n",
    "\n",
    "plt.ylabel('Number Recorded/Seen')\n",
    "plt.title('Number of Ducks Recorded Vs. Sex')\n",
    "plt.xticks(ind, ('Mallard', 'Wood Duck', 'Gadwall', 'BW Teal', 'Black Duck'))\n",
    "plt.yticks(np.arange(0, 81, 10))\n",
    "plt.legend((p1[0], p2[0]), ('Male', 'Female'))\n",
    "\n",
    "plt.show()"
   ]
  },
  {
   "cell_type": "code",
   "execution_count": null,
   "metadata": {},
   "outputs": [],
   "source": []
  }
 ],
 "metadata": {
  "kernelspec": {
   "display_name": "Python 3",
   "language": "python",
   "name": "python3"
  },
  "language_info": {
   "codemirror_mode": {
    "name": "ipython",
    "version": 3
   },
   "file_extension": ".py",
   "mimetype": "text/x-python",
   "name": "python",
   "nbconvert_exporter": "python",
   "pygments_lexer": "ipython3",
   "version": "3.7.3"
  }
 },
 "nbformat": 4,
 "nbformat_minor": 1
}
